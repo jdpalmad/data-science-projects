{
 "cells": [
  {
   "attachments": {},
   "cell_type": "markdown",
   "metadata": {},
   "source": [
    "## **1. Credit card applications**\n",
    "\n",
    "Banks receive a lot of applications for credit cards. It is known that they reject many of them for many reasons, like high loan balances, low income levels, or too many inquiries on an individual's credit report, for example. At analyzing this applications we will have to handle with the missing values and preprocess the dataset to finally make a credit card approval predictor using Statistics and Machhine Learning.\n",
    "    \n",
    "As mentioned, we will use the Credit Card Approval dataset from the UCI Machine Learning Repository. The structure of this notebook is as follows:\n",
    "\n",
    "> * First, we will start off by loading and viewing the dataset.<br>\n",
    "    > * We will see that the dataset has a mixture of both numerical and non-numerical features, that it contains values from different   ranges, plus that it contains a number of missing entries.<br> \n",
    "    > * We will have to preprocess the dataset to ensure the machine learning model we choose can make good predictions.<br> \n",
    "    > * After our data is in good shape, we will do some exploratory data analysis to build our intuitions.<br> \n",
    "    > * Finally, we will build a machine learning model that can predict if an individual's application for a credit card will be accepted.<br> \n",
    "  \n",
    "First, we load and peek at the dataset."
   ]
  },
  {
   "cell_type": "code",
   "execution_count": null,
   "metadata": {},
   "outputs": [],
   "source": [
    "\n",
    "# Import pandas\n",
    "import pandas as pd\n",
    "# Load dataset\n",
    "cc_apps = pd.read_csv(\"dataset/cc_approvals.data\", header=None)\n",
    "# Inspect data\n",
    "cc_apps.head()"
   ]
  },
  {
   "attachments": {},
   "cell_type": "markdown",
   "metadata": {},
   "source": [
    "Clearly this Dataset has been modified to keep the confidentialityof the data. Furthermore, its pertinent to remind the information of the colums and the dataset provided by UCI Machine Learning Repository at [http://archive.ics.uci.edu/ml/datasets/credit+approval](https://) and the information founded on internet about the data.\n",
    "\n",
    " At first, the dataset may seem confusing but \n",
    "\n",
    "\n",
    "### Attribute Information:\n",
    "\n",
    "> - A1: **Gender (Male a)** b, a. <br>\n",
    "> - A2: **Age in years** continuous. <br>\n",
    "> - A3: **Debt in Thousands of Dollars** continuous. <br>\n",
    "> - A4: **Married** u, y, l, t. <br>\n",
    "> - A5: **Bank Customer** g, p, gg. <br>\n",
    "> - A6: **Education Level** c, d, cc, i, j, k, m, r, q, w, x, e, aa, ff. <br>\n",
    "> - A7: **Ethnicity** v, h, bb, j, n, z, dd, ff, o. <br>\n",
    "> - A8: **Years Employed** continuous. <br>\n",
    "> - A9: **Prior Default** t, f. <br>\n",
    "> - A10: **Employed** t, f. <br>\n",
    "> - A11: **Credit Score** continuous. <br>\n",
    "> - A12: **DriversLicense** t, f. <br>\n",
    "> - A13: **Citizen** g, p, s. <br>\n",
    "> - A14: **Zip Code** continuous. <br>\n",
    "> - A15: **Income** continuous. <br>\n",
    "> - A16: **Approval Status** +,- (class attribute). <br> \n"
   ]
  },
  {
   "attachments": {},
   "cell_type": "markdown",
   "metadata": {},
   "source": [
    "## **2. Inspecting the applications**\n",
    "\n",
    "Now we will inspect the dataset a little more closely and try to identify some potential problems, missing values, and interesting points."
   ]
  },
  {
   "cell_type": "code",
   "execution_count": null,
   "metadata": {},
   "outputs": [],
   "source": [
    "# Print summary statistics\n",
    "cc_apps_description = cc_apps.describe()\n",
    "print(cc_apps_description)\n",
    "print(\"\\n\")\n",
    "\n",
    "# Print DataFrame information\n",
    "cc_apps_info = cc_apps.info()\n",
    "print(cc_apps_info)\n",
    "print(\"\\n\")\n",
    "\n",
    "# Inspect missing values in the dataset\n",
    "cc_apps.tail(20)\n"
   ]
  },
  {
   "attachments": {},
   "cell_type": "markdown",
   "metadata": {},
   "source": [
    "## **3. Splitting the dataset into train and test sets**\n",
    "\n",
    "Now, we will split our data into train set and test set to prepare our data for two different phases of machine learning modeling: training and testing. Ideally, no information from the test data should be used to preprocess the training data or should be used to direct the training process of a machine learning model. Hence, we first split the data and then preprocess it.\n",
    "\n",
    "Also it is important to notice that some features in the dataset like *Drivers License*, and  *ZipCode* may not be that correlated to the target variable *Approval Status* and we will drop them."
   ]
  },
  {
   "cell_type": "code",
   "execution_count": null,
   "metadata": {},
   "outputs": [],
   "source": [
    "# Import train_test_split\n",
    "from sklearn.model_selection import train_test_split\n",
    "# Drop the feature columns 11 and 13\n",
    "cc_apps = cc_apps.drop([11, 13], axis=1)\n",
    "# Split into train and test sets\n",
    "cc_apps_train, cc_apps_test = train_test_split(cc_apps, test_size=0.33, random_state=42)"
   ]
  },
  {
   "attachments": {},
   "cell_type": "markdown",
   "metadata": {},
   "source": [
    "## **4. Handling the missing values**\n",
    "Now, we find that the dataset has an interesting mixture of numerical and non-numerical values or features. This is common and we will be able to deal with this in the preproccesing, so we will start by checking for missing values and keep going with the preprocessing..."
   ]
  },
  {
   "cell_type": "code",
   "execution_count": null,
   "metadata": {},
   "outputs": [],
   "source": [
    "# Import numpy\n",
    "import numpy as np\n",
    "# Inspect missing values in the dataset\n",
    "cc_apps.tail(20)\n",
    "# Replace the '?'s with NaN\n",
    "cc_apps_train = cc_apps_train.replace('?', np.NaN)\n",
    "cc_apps_test = cc_apps_test.replace('?', np.NaN)\n",
    "# Inspect the missing values again\n",
    "cc_apps.tail(20)"
   ]
  },
  {
   "attachments": {},
   "cell_type": "markdown",
   "metadata": {},
   "source": [
    "We replaced all the question marks with NaNs. This is going to help us in the next missing value treatment that we are going to perform.\n",
    "We know ignoring missing values is not a good idea because it may affect in the performance of the Machine Learning Model so we will use a strategy called Mean Imputation to replace the missing values with the mean of the column."
   ]
  },
  {
   "cell_type": "code",
   "execution_count": null,
   "metadata": {},
   "outputs": [],
   "source": [
    "# Implement mean imputation\n",
    "cc_apps_train.fillna(cc_apps_train.mean(), inplace=True)\n",
    "cc_apps_test.fillna(cc_apps_train.mean(), inplace=True)\n",
    "# Verify that missing values have been imputed\n",
    "print(cc_apps_train.isnull().sum())\n",
    "print(cc_apps_test.isnull().sum())\n",
    "# Inspection of the missing values\n",
    "cc_apps.tail(20)"
   ]
  },
  {
   "attachments": {},
   "cell_type": "markdown",
   "metadata": {},
   "source": [
    "We have taken care of some of the missing values, those that were in numeric columns, now we will take care of the missing values in the categorical columns *A0*, *A1*, *A3*, *A4*, *A5* and *A6*.\n",
    "We will do this by a similar technique to the one used before called mode imputation, where we replace the missing values with the most frequent value in the column."
   ]
  },
  {
   "cell_type": "code",
   "execution_count": null,
   "metadata": {},
   "outputs": [],
   "source": [
    "# Iterate over each column of cc_apps_train\n",
    "for col in cc_apps_train.columns:\n",
    "    # Check if the column is of object type\n",
    "    if cc_apps_train[col].dtypes == 'object':\n",
    "        # Impute with the most frequent value\n",
    "        cc_apps_train = cc_apps_train.fillna(cc_apps_train[col].value_counts().index[0])\n",
    "        cc_apps_test = cc_apps_test.fillna(cc_apps_train[col].value_counts().index[0])\n",
    "\n",
    "# Count the number of NaNs in the dataset and print the counts to verify\n",
    "print(cc_apps_train.isnull().sum())\n",
    "print(cc_apps_test.isnull().sum())\n",
    "\n"
   ]
  },
  {
   "attachments": {},
   "cell_type": "markdown",
   "metadata": {},
   "source": [
    "Clearly now we have dealt with all the missing values in the dataset, we can move on to the next step."
   ]
  },
  {
   "attachments": {},
   "cell_type": "markdown",
   "metadata": {},
   "source": [
    "## **5. Preprocessing the data**\n",
    "\n",
    "Now we want to:\n",
    "> - Convert the non-numeric data into numeric.\n",
    "> - Scale the feature values to a uniform range.\n",
    "\n",
    "We convert the non-numeric data into numeric because this will result in faster computation times and also many Machine Learning Models will require the data to be strictly numeric. Now we will use the get_dummies() function from pandas to convert the categorical columns into numeric."
   ]
  },
  {
   "cell_type": "code",
   "execution_count": null,
   "metadata": {},
   "outputs": [],
   "source": [
    "# Convert the categorical features in the train and test sets independently\n",
    "cc_apps_train = pd.get_dummies(cc_apps_train)\n",
    "cc_apps_test = pd.get_dummies(cc_apps_test)\n",
    "\n",
    "# Reindex the columns of the test set aligning with the train set\n",
    "cc_apps_test = cc_apps_test.reindex(columns=cc_apps_train.columns, fill_value=0)"
   ]
  },
  {
   "attachments": {},
   "cell_type": "markdown",
   "metadata": {},
   "source": [
    "Now we only have to scale the values to a uniform range. We will use the MinMaxScaler from sklearn to do this. \n",
    "We want to scale all the values to a uniform range because if we, for example, assign all the values to the interval $(0,1)$, then for example, if someone has a *Credit Score* closer to $1$ it certainly means that such individual is more trustworthy than someone with a *Credit Score* closer to $0$."
   ]
  },
  {
   "cell_type": "code",
   "execution_count": null,
   "metadata": {},
   "outputs": [],
   "source": [
    "# Import MinMaxScaler\n",
    "from sklearn.preprocessing import MinMaxScaler\n",
    "\n",
    "# Segregate features and labels into separate variables\n",
    "X_train, y_train = cc_apps_train.iloc[:, :-1].values, cc_apps_train.iloc[:, [-1]].values\n",
    "X_test, y_test = cc_apps_test.iloc[:, :-1].values, cc_apps_test.iloc[:, [-1]].values\n",
    "\n",
    "# Instantiate MinMaxScaler and use it to rescale X_train and X_test\n",
    "scaler = MinMaxScaler(feature_range=(0, 1))\n",
    "rescaledX_train = scaler.fit_transform(X_train)\n",
    "rescaledX_test = scaler.transform(X_test)"
   ]
  },
  {
   "attachments": {},
   "cell_type": "markdown",
   "metadata": {},
   "source": [
    "## **6. Fitting a logistic regression model to the train set**\n",
    "According to *UCI*, predicting whether and individual will get a credit card or not is a classification problem. We will use a Logistic Regression model to solve this problem. Our dataset contains more denies than approvals, we can see this below.\n"
   ]
  },
  {
   "cell_type": "code",
   "execution_count": null,
   "metadata": {},
   "outputs": [],
   "source": [
    "# Find the number of occurences of each value in the Approval column\n",
    "print(cc_apps[15].value_counts())"
   ]
  },
  {
   "attachments": {},
   "cell_type": "markdown",
   "metadata": {},
   "source": [
    "Why we peak this model? Because it is a simple model that is easy to interpret and it is a good baseline for a classification problem. We will use the LogisticRegression class from sklearn.linear_model to fit a logistic regression model to the train set.\n",
    "We say this because this data is correlated and we can take advantage of this using generalized linear models, Logistic Regression is one of them."
   ]
  },
  {
   "cell_type": "code",
   "execution_count": null,
   "metadata": {},
   "outputs": [],
   "source": [
    "# Import LogisticRegression\n",
    "from sklearn.linear_model import LogisticRegression\n",
    "\n",
    "# Instantiate a LogisticRegression classifier with default parameter values\n",
    "logreg = LogisticRegression()\n",
    "\n",
    "# Fit logreg to the train set\n",
    "logreg.fit(rescaledX_train,y_train)"
   ]
  },
  {
   "attachments": {},
   "cell_type": "markdown",
   "metadata": {},
   "source": [
    "## **7. Making predictions and evaluating performance**\n",
    "We will now evaluate our model on the test set with respect to classification accuracy and we will look the Confusion Matrix and we will evaluate if our model is capable of predicting wether a card application will be approved or not and the confusion matrix will help us to see how many correct and incorrect predictions our model made."
   ]
  },
  {
   "cell_type": "code",
   "execution_count": null,
   "metadata": {},
   "outputs": [],
   "source": [
    "# Import confusion_matrix\n",
    "from sklearn.metrics import confusion_matrix\n",
    "\n",
    "# Use logreg to predict instances from the test set and store it\n",
    "y_pred = logreg.predict(rescaledX_test)\n",
    "\n",
    "# Get the accuracy score of logreg model and print it\n",
    "print(\"Accuracy of logistic regression classifier: \", logreg.score(rescaledX_test,y_test))\n",
    "\n",
    "# Print the confusion matrix of the logreg model\n",
    "confusion_matrix(y_test,y_pred)"
   ]
  },
  {
   "attachments": {},
   "cell_type": "markdown",
   "metadata": {},
   "source": [
    "## **8. Grid searching for optimal hyperparameters**\n",
    "By now we can see our model is doing pretty good and had an accuracy of $100%$. If it weren't the case we could also perform a grid search to find the best hyperparameters for our model.\n",
    "Logistic regression implementation's by scikit-learn conssists of different hyperparameters, by now we will use \n",
    "> - **tol** <br>\n",
    "> - **max_iter** <br> \n",
    "\n",
    "where **tol** is the tolerance for the stopping criteria and **max_iter** is the maximum number of iterations taken for the solvers to converge.\n"
   ]
  },
  {
   "cell_type": "code",
   "execution_count": null,
   "metadata": {},
   "outputs": [],
   "source": [
    "# Import GridSearchCV\n",
    "from sklearn.model_selection import GridSearchCV\n",
    "\n",
    "# Define the grid of values for tol and max_iter\n",
    "tol = [0.01, 0.001 ,0.0001]\n",
    "max_iter = [100, 150, 200]\n",
    "\n",
    "# Create a dictionary where tol and max_iter are keys and the lists of their values are the corresponding values\n",
    "param_grid = dict(tol=tol, max_iter=max_iter)"
   ]
  },
  {
   "attachments": {},
   "cell_type": "markdown",
   "metadata": {},
   "source": [
    "## **9. Finding the best performing model**\n",
    "We have defined the grid of hyperparameter values and converted them into a single dictionary format which GridSearchCV() expects as one of its parameters. Now, we will begin the grid search to see which values perform best.\n",
    "We will instantiate GridSearchCV() with our earlier logreg model with all the data we have. We will also instruct GridSearchCV() to perform a cross-validation of five folds.\n",
    "Finally we will end storing the best-achieved score and the respective best hyperparameters."
   ]
  },
  {
   "cell_type": "code",
   "execution_count": null,
   "metadata": {},
   "outputs": [],
   "source": [
    "# Instantiate GridSearchCV with the required parameters\n",
    "grid_model = GridSearchCV(estimator=logreg, param_grid=param_grid, cv=5)\n",
    "\n",
    "# Fit grid_model to the data\n",
    "grid_model_result = grid_model.fit(rescaledX_train, y_train)\n",
    "\n",
    "# Summarize results\n",
    "best_score, best_params = grid_model_result.best_score_, grid_model_result.best_params_\n",
    "print(\"Best: %f using %s\" % (best_score, best_params))\n",
    "\n",
    "# Extract the best model and evaluate it on the test set\n",
    "best_model = grid_model_result.best_estimator_\n",
    "print(\"Accuracy of logistic regression classifier: \", best_model.score(rescaledX_test,y_test))"
   ]
  },
  {
   "attachments": {},
   "cell_type": "markdown",
   "metadata": {},
   "source": [
    "Finally while doing this predictor we have dealt with steps like cleaning the data, preproccesing, scaling, and label encoding, and we have also used a simple model like Logistic Regression to predict whether an individual will get a credit card or not. We have also used GridSearchCV to find the best hyperparameters for our model."
   ]
  },
  {
   "attachments": {},
   "cell_type": "markdown",
   "metadata": {},
   "source": [
    "#### *This was collected and solved by jdpalmad. Suggestions are found at Datacamp and the Dataset is provided by UCI Machine Learning Repository.*"
   ]
  }
 ],
 "metadata": {
  "kernelspec": {
   "display_name": "Python 3",
   "language": "python",
   "name": "python3"
  },
  "language_info": {
   "codemirror_mode": {
    "name": "ipython",
    "version": 3
   },
   "file_extension": ".py",
   "mimetype": "text/x-python",
   "name": "python",
   "nbconvert_exporter": "python",
   "pygments_lexer": "ipython3",
   "version": "3.10.6"
  },
  "orig_nbformat": 4,
  "vscode": {
   "interpreter": {
    "hash": "916dbcbb3f70747c44a77c7bcd40155683ae19c65e1c03b4aa3499c5328201f1"
   }
  }
 },
 "nbformat": 4,
 "nbformat_minor": 2
}
