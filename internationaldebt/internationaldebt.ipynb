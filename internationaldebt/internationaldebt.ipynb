{
 "cells": [
  {
   "attachments": {},
   "cell_type": "markdown",
   "metadata": {},
   "source": [
    "## **1. The World Bank's international debt data**\n",
    "In this notebook we are going to analyze debt data collected by The World Bank. The dataset contains information about the amount of debt owed by developing countries and we are particularly interested in the following questions:\n",
    "\n",
    "> - What is the total amount of debt that is owed by the countries listed in the dataset? <br>\n",
    "> - Which country owns the maximum amount of debt and what does that amount look like? <br>\n",
    "> - What is the average amount of debt owed by countries across different debt indicators? <br>\n",
    "\n",
    "Let us sneak peek into the dataset and see what it looks like but first we need to correcly open the dataframe to be able to make the queries, this time we will use SQL through Python using the pertinent libraries."
   ]
  },
  {
   "cell_type": "code",
   "execution_count": 25,
   "metadata": {},
   "outputs": [
    {
     "data": {
      "text/html": [
       "<div>\n",
       "<style scoped>\n",
       "    .dataframe tbody tr th:only-of-type {\n",
       "        vertical-align: middle;\n",
       "    }\n",
       "\n",
       "    .dataframe tbody tr th {\n",
       "        vertical-align: top;\n",
       "    }\n",
       "\n",
       "    .dataframe thead th {\n",
       "        text-align: right;\n",
       "    }\n",
       "</style>\n",
       "<table border=\"1\" class=\"dataframe\">\n",
       "  <thead>\n",
       "    <tr style=\"text-align: right;\">\n",
       "      <th></th>\n",
       "      <th>index</th>\n",
       "      <th>country_name</th>\n",
       "      <th>country_code</th>\n",
       "      <th>indicator_name</th>\n",
       "      <th>indicator_code</th>\n",
       "      <th>debt</th>\n",
       "    </tr>\n",
       "  </thead>\n",
       "  <tbody>\n",
       "    <tr>\n",
       "      <th>0</th>\n",
       "      <td>0</td>\n",
       "      <td>Afghanistan</td>\n",
       "      <td>AFG</td>\n",
       "      <td>Disbursements on external debt, long-term (DIS...</td>\n",
       "      <td>DT.DIS.DLXF.CD</td>\n",
       "      <td>72894453.7</td>\n",
       "    </tr>\n",
       "    <tr>\n",
       "      <th>1</th>\n",
       "      <td>1</td>\n",
       "      <td>Afghanistan</td>\n",
       "      <td>AFG</td>\n",
       "      <td>Interest payments on external debt, long-term ...</td>\n",
       "      <td>DT.INT.DLXF.CD</td>\n",
       "      <td>53239440.1</td>\n",
       "    </tr>\n",
       "    <tr>\n",
       "      <th>2</th>\n",
       "      <td>2</td>\n",
       "      <td>Afghanistan</td>\n",
       "      <td>AFG</td>\n",
       "      <td>PPG, bilateral (AMT, current US$)</td>\n",
       "      <td>DT.AMT.BLAT.CD</td>\n",
       "      <td>61739336.9</td>\n",
       "    </tr>\n",
       "  </tbody>\n",
       "</table>\n",
       "</div>"
      ],
      "text/plain": [
       "   index country_name country_code  \\\n",
       "0      0  Afghanistan          AFG   \n",
       "1      1  Afghanistan          AFG   \n",
       "2      2  Afghanistan          AFG   \n",
       "\n",
       "                                      indicator_name  indicator_code  \\\n",
       "0  Disbursements on external debt, long-term (DIS...  DT.DIS.DLXF.CD   \n",
       "1  Interest payments on external debt, long-term ...  DT.INT.DLXF.CD   \n",
       "2                  PPG, bilateral (AMT, current US$)  DT.AMT.BLAT.CD   \n",
       "\n",
       "         debt  \n",
       "0  72894453.7  \n",
       "1  53239440.1  \n",
       "2  61739336.9  "
      ]
     },
     "execution_count": 25,
     "metadata": {},
     "output_type": "execute_result"
    }
   ],
   "source": [
    "import pandas as pd\n",
    "import sqlite3 as sql\n",
    "\n",
    "international_debt = pd.read_csv('dataset/international_debt.csv')\n",
    "conn = sql.connect('default.db')\n",
    "df.to_sql('international_debt', conn)\n",
    "\n",
    "query = 'select * from df'\n",
    "new_df = pd.read_sql(query, conn)\n",
    "new_df.head(3)\n"
   ]
  },
  {
   "attachments": {},
   "cell_type": "markdown",
   "metadata": {},
   "source": [
    "Now let us see the first 10 rows of the dataset."
   ]
  },
  {
   "cell_type": "code",
   "execution_count": 36,
   "metadata": {},
   "outputs": [
    {
     "name": "stdout",
     "output_type": "stream",
     "text": [
      "<bound method NDFrame.head of    index country_name country_code  \\\n",
      "0      0  Afghanistan          AFG   \n",
      "1      1  Afghanistan          AFG   \n",
      "2      2  Afghanistan          AFG   \n",
      "3      3  Afghanistan          AFG   \n",
      "4      4  Afghanistan          AFG   \n",
      "5      5  Afghanistan          AFG   \n",
      "6      6  Afghanistan          AFG   \n",
      "7      7  Afghanistan          AFG   \n",
      "8      8  Afghanistan          AFG   \n",
      "9      9  Afghanistan          AFG   \n",
      "\n",
      "                                      indicator_name  indicator_code  \\\n",
      "0  Disbursements on external debt, long-term (DIS...  DT.DIS.DLXF.CD   \n",
      "1  Interest payments on external debt, long-term ...  DT.INT.DLXF.CD   \n",
      "2                  PPG, bilateral (AMT, current US$)  DT.AMT.BLAT.CD   \n",
      "3                  PPG, bilateral (DIS, current US$)  DT.DIS.BLAT.CD   \n",
      "4                  PPG, bilateral (INT, current US$)  DT.INT.BLAT.CD   \n",
      "5               PPG, multilateral (AMT, current US$)  DT.AMT.MLAT.CD   \n",
      "6               PPG, multilateral (DIS, current US$)  DT.DIS.MLAT.CD   \n",
      "7               PPG, multilateral (INT, current US$)  DT.INT.MLAT.CD   \n",
      "8         PPG, official creditors (AMT, current US$)  DT.AMT.OFFT.CD   \n",
      "9         PPG, official creditors (DIS, current US$)  DT.DIS.OFFT.CD   \n",
      "\n",
      "          debt  \n",
      "0   72894453.7  \n",
      "1   53239440.1  \n",
      "2   61739336.9  \n",
      "3   49114729.4  \n",
      "4   39903620.1  \n",
      "5   39107845.0  \n",
      "6   23779724.3  \n",
      "7   13335820.0  \n",
      "8  100847181.9  \n",
      "9   72894453.7  >\n"
     ]
    }
   ],
   "source": [
    "# Create the query to select all the columns from the df1 table\n",
    "query = 'SELECT * FROM international_debt LIMIT 10'\n",
    "df1 = pd.read_sql(query, conn)\n",
    "print(df1.head)"
   ]
  },
  {
   "attachments": {},
   "cell_type": "markdown",
   "metadata": {},
   "source": [
    "## **2. Finding the number of distinct countries**\n",
    "We can see that there is more than one debt indicator in the dataset. Let us find out the number of distinct debt indicators in the dataset and also the number of distinct countries so we want to deal with this unique values."
   ]
  },
  {
   "cell_type": "code",
   "execution_count": 35,
   "metadata": {},
   "outputs": [
    {
     "name": "stdout",
     "output_type": "stream",
     "text": [
      "<bound method NDFrame.head of    total_distinct_countries\n",
      "0                       124>\n"
     ]
    }
   ],
   "source": [
    "# Create the pertinent query\n",
    "query = 'SELECT COUNT(DISTINCT(country_name)) AS total_distinct_countries FROM international_debt'\n",
    "df2 = pd.read_sql(query, conn)\n",
    "print(df2.head)"
   ]
  },
  {
   "attachments": {},
   "cell_type": "markdown",
   "metadata": {},
   "source": [
    "## **3. About debt**\n",
    "As before we want to find out the distinct debt indicators in the dataset but first to get a better overview we want to see the total debt owed."
   ]
  },
  {
   "cell_type": "code",
   "execution_count": 34,
   "metadata": {},
   "outputs": [
    {
     "name": "stdout",
     "output_type": "stream",
     "text": [
      "   total_debt\n",
      "0  3079734.49\n"
     ]
    }
   ],
   "source": [
    "#Create the pertinent query\n",
    "query = 'SELECT ROUND(SUM(debt)/1000000, 2) AS total_debt FROM international_debt '\n",
    "df3 = pd.read_sql(query, conn)\n",
    "print(df3)"
   ]
  },
  {
   "cell_type": "code",
   "execution_count": 33,
   "metadata": {},
   "outputs": [
    {
     "name": "stdout",
     "output_type": "stream",
     "text": [
      "  country_name    total_debt\n",
      "0        China  2.857935e+11\n"
     ]
    }
   ],
   "source": [
    "# Create the pertinent query\n",
    "query = '''SELECT country_name, SUM(debt) AS total_debt FROM international_debt \n",
    "        GROUP BY country_name  ORDER BY total_debt DESC LIMIT 1'''\n",
    "df4 = pd.read_sql(query, conn)\n",
    "print(df4)"
   ]
  },
  {
   "attachments": {},
   "cell_type": "markdown",
   "metadata": {},
   "source": [
    "## **4. Average amount of debt by indicator**"
   ]
  },
  {
   "attachments": {},
   "cell_type": "markdown",
   "metadata": {},
   "source": [
    "So now we have a better idea of the dataset and a few of its statistics now lets see the average amount of debt across different debt indicators or countries."
   ]
  },
  {
   "cell_type": "code",
   "execution_count": 32,
   "metadata": {},
   "outputs": [
    {
     "name": "stdout",
     "output_type": "stream",
     "text": [
      "   debt_indicator                                     indicator_name  \\\n",
      "0  DT.AMT.DLXF.CD  Principal repayments on external debt, long-te...   \n",
      "1  DT.AMT.DPNG.CD  Principal repayments on external debt, private...   \n",
      "2  DT.DIS.DLXF.CD  Disbursements on external debt, long-term (DIS...   \n",
      "3  DT.DIS.OFFT.CD         PPG, official creditors (DIS, current US$)   \n",
      "4  DT.AMT.PRVT.CD          PPG, private creditors (AMT, current US$)   \n",
      "5  DT.INT.DLXF.CD  Interest payments on external debt, long-term ...   \n",
      "6  DT.DIS.BLAT.CD                  PPG, bilateral (DIS, current US$)   \n",
      "7  DT.INT.DPNG.CD  Interest payments on external debt, private no...   \n",
      "8  DT.AMT.OFFT.CD         PPG, official creditors (AMT, current US$)   \n",
      "9  DT.AMT.PBND.CD                      PPG, bonds (AMT, current US$)   \n",
      "\n",
      "   average_debt  \n",
      "0  5.904868e+09  \n",
      "1  5.161194e+09  \n",
      "2  2.152041e+09  \n",
      "3  1.958983e+09  \n",
      "4  1.803694e+09  \n",
      "5  1.644024e+09  \n",
      "6  1.223139e+09  \n",
      "7  1.220411e+09  \n",
      "8  1.191188e+09  \n",
      "9  1.082624e+09  \n"
     ]
    }
   ],
   "source": [
    "# Create the pertinent query\n",
    "query = ''' SELECT \n",
    "    indicator_code AS debt_indicator,\n",
    "    indicator_name,\n",
    "    AVG(debt) AS average_debt\n",
    "    FROM international_debt\n",
    "    GROUP BY debt_indicator, indicator_name\n",
    "    ORDER BY average_debt DESC\n",
    "    LIMIT 10 '''\n",
    "df5 = pd.read_sql(query, conn)\n",
    "print(df5)"
   ]
  },
  {
   "attachments": {},
   "cell_type": "markdown",
   "metadata": {},
   "source": [
    "We can see that the indicator *DT.AMT.DLXF.CD* has the highest average debt amount. This includes repayment of long terms debt, Another interesting observation that can be done is that there is a HUGE difference between the indicators so lets do a little more analysis on this indicator."
   ]
  },
  {
   "attachments": {},
   "cell_type": "markdown",
   "metadata": {},
   "source": [
    "## **5. The most common debt indicator**"
   ]
  },
  {
   "cell_type": "code",
   "execution_count": 37,
   "metadata": {},
   "outputs": [
    {
     "name": "stdout",
     "output_type": "stream",
     "text": [
      "  country_name                                     indicator_name\n",
      "0        China  Principal repayments on external debt, long-te...\n"
     ]
    }
   ],
   "source": [
    "# Create the pertinent query\n",
    "query = ''' SELECT \n",
    "    country_name, \n",
    "    indicator_name\n",
    "    FROM international_debt\n",
    "    WHERE debt = (SELECT \n",
    "    MAX(debt)\n",
    "    FROM international_debt\n",
    "    WHERE indicator_code = 'DT.AMT.DLXF.CD') '''\n",
    "df6 = pd.read_sql(query, conn)\n",
    "print(df6)"
   ]
  },
  {
   "attachments": {},
   "cell_type": "markdown",
   "metadata": {},
   "source": [
    "As we already knew China has the highest debt amount but lets see which country has the highest debt amount for the indicator *DT.AMT.DLXF.CD*. We saw that long-term debt is the most common debt indicator so lets see which country has the highest long-term debt amount.\n",
    "\n",
    "Now, what about the countries in general average debt."
   ]
  },
  {
   "cell_type": "code",
   "execution_count": 38,
   "metadata": {},
   "outputs": [
    {
     "name": "stdout",
     "output_type": "stream",
     "text": [
      "    indicator_code  indicator_count\n",
      "0   DT.INT.OFFT.CD              124\n",
      "1   DT.INT.MLAT.CD              124\n",
      "2   DT.INT.DLXF.CD              124\n",
      "3   DT.AMT.OFFT.CD              124\n",
      "4   DT.AMT.MLAT.CD              124\n",
      "5   DT.AMT.DLXF.CD              124\n",
      "6   DT.DIS.DLXF.CD              123\n",
      "7   DT.INT.BLAT.CD              122\n",
      "8   DT.DIS.OFFT.CD              122\n",
      "9   DT.AMT.BLAT.CD              122\n",
      "10  DT.DIS.MLAT.CD              120\n",
      "11  DT.DIS.BLAT.CD              113\n",
      "12  DT.INT.PRVT.CD               98\n",
      "13  DT.AMT.PRVT.CD               98\n",
      "14  DT.INT.PCBK.CD               84\n",
      "15  DT.AMT.PCBK.CD               84\n",
      "16  DT.INT.DPNG.CD               79\n",
      "17  DT.AMT.DPNG.CD               79\n",
      "18  DT.INT.PBND.CD               69\n",
      "19  DT.AMT.PBND.CD               69\n"
     ]
    }
   ],
   "source": [
    "# Create the pertinent query\n",
    "query = '''SELECT \n",
    "        indicator_code,\n",
    "        COUNT(indicator_code) AS indicator_count\n",
    "        FROM international_debt\n",
    "        GROUP BY indicator_code\n",
    "        ORDER BY indicator_count DESC, indicator_code DESC\n",
    "        LIMIT 20'''\n",
    "df7 = pd.read_sql(query, conn)\n",
    "print(df7)"
   ]
  },
  {
   "attachments": {},
   "cell_type": "markdown",
   "metadata": {},
   "source": [
    "## **6. Other viable debt issues and conclusion**\n",
    "\n",
    "So there a total of 6 debt indicators in which the countries have taken debt there is cleary some more question regading the indicators, but now we can also focus in de debts and the countries separately."
   ]
  },
  {
   "cell_type": "code",
   "execution_count": 39,
   "metadata": {},
   "outputs": [
    {
     "name": "stdout",
     "output_type": "stream",
     "text": [
      "    indicator_code  indicator_count\n",
      "0   DT.INT.OFFT.CD              124\n",
      "1   DT.INT.MLAT.CD              124\n",
      "2   DT.INT.DLXF.CD              124\n",
      "3   DT.AMT.OFFT.CD              124\n",
      "4   DT.AMT.MLAT.CD              124\n",
      "5   DT.AMT.DLXF.CD              124\n",
      "6   DT.DIS.DLXF.CD              123\n",
      "7   DT.INT.BLAT.CD              122\n",
      "8   DT.DIS.OFFT.CD              122\n",
      "9   DT.AMT.BLAT.CD              122\n",
      "10  DT.DIS.MLAT.CD              120\n",
      "11  DT.DIS.BLAT.CD              113\n",
      "12  DT.INT.PRVT.CD               98\n",
      "13  DT.AMT.PRVT.CD               98\n",
      "14  DT.INT.PCBK.CD               84\n",
      "15  DT.AMT.PCBK.CD               84\n",
      "16  DT.INT.DPNG.CD               79\n",
      "17  DT.AMT.DPNG.CD               79\n",
      "18  DT.INT.PBND.CD               69\n",
      "19  DT.AMT.PBND.CD               69\n"
     ]
    }
   ],
   "source": [
    "# Create the pertinent query\n",
    "query = '''SELECT \n",
    "        indicator_code,\n",
    "        COUNT(indicator_code) AS indicator_count\n",
    "        FROM international_debt\n",
    "        GROUP BY indicator_code\n",
    "        ORDER BY indicator_count DESC, indicator_code DESC\n",
    "        LIMIT 20'''\n",
    "df8 = pd.read_sql(query, conn)\n",
    "print(df8)"
   ]
  },
  {
   "attachments": {},
   "cell_type": "markdown",
   "metadata": {},
   "source": [
    "In this notebook, we took a look at debt owed by countries across the globe. We extracted a few summary statistics from the data and unraveled some interesting facts and figures. We also validated our findings to make sure the investigations are correct."
   ]
  },
  {
   "attachments": {},
   "cell_type": "markdown",
   "metadata": {},
   "source": [
    "#### *This was collected and solved by jdpalmad and the project was guided by Datacamp, the dataset is from The Worlds Bank*"
   ]
  }
 ],
 "metadata": {
  "kernelspec": {
   "display_name": "Python 3",
   "language": "python",
   "name": "python3"
  },
  "language_info": {
   "codemirror_mode": {
    "name": "ipython",
    "version": 3
   },
   "file_extension": ".py",
   "mimetype": "text/x-python",
   "name": "python",
   "nbconvert_exporter": "python",
   "pygments_lexer": "ipython3",
   "version": "3.10.6"
  },
  "orig_nbformat": 4,
  "vscode": {
   "interpreter": {
    "hash": "916dbcbb3f70747c44a77c7bcd40155683ae19c65e1c03b4aa3499c5328201f1"
   }
  }
 },
 "nbformat": 4,
 "nbformat_minor": 2
}
